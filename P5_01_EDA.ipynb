{
 "cells": [
  {
   "cell_type": "markdown",
   "id": "217e0a04-642a-4c86-bf87-fc932b014ea4",
   "metadata": {},
   "source": [
    "# Project 5 - 01 : Data cleaning / EDA"
   ]
  },
  {
   "cell_type": "markdown",
   "id": "563899b2-a91f-418d-b0b1-4728f487fe92",
   "metadata": {},
   "source": [
    "## Data import"
   ]
  },
  {
   "cell_type": "markdown",
   "id": "1ebcc32c-7836-4fdc-a03e-dc15f85a07c1",
   "metadata": {},
   "source": [
    "**Data :** https://data.stackexchange.com/stackoverflow/query/new  \n",
    "**DB metadata :** https://meta.stackexchange.com/questions/2677/database-schema-documentation-for-the-public-data-dump-and-sede  \n",
    "**Queries :** \n",
    "```SQL \n",
    "SELECT\n",
    "    p.Id as id,\n",
    "    p.Body as doc,\n",
    "    p.Title as title,\n",
    "    p.Tags as tags,\n",
    "    p.CreationDate as creation_date,\n",
    "    -- some additionnal metrics \n",
    "    p.Score as score,\n",
    "    p.ViewCount as views,\n",
    "    p.AnswerCount as answers,\n",
    "    p.CommentCount as comments,\n",
    "    p.FavoriteCount as favorites,\n",
    "    p.LastActivityDate as last_activity_date\n",
    "FROM posts p, PostTypes pt  \n",
    "WHERE p.PostTypeId = pt.Id\n",
    "AND pt.Name  = 'Question'\n",
    "AND p.Tags IS NOT NULL\n",
    "AND p.FavoriteCount > 0\n",
    "AND p.Score > 0\n",
    "AND p.CreationDate <= '01-01-2021'  -- to retrieve recent posts\n",
    "-- to make several queries without having duplicates\n",
    "AND p.Id >= XXX  \n",
    "AND p.Id < XXX\n",
    "```\n",
    "After looking at the database metadata, I selected the columns that seemed relevant (questions text, tags, date, and some metrics to try to filter according to the relevance of the questions)  \n",
    "I filtered the posts table to retrieve only the \"Questions\" with tags and a score/number of favorites higher than 0  \n",
    "I also filtered by ID to have about 50k rows per query, due to StackExchange limitations."
   ]
  }
 ],
 "metadata": {
  "kernelspec": {
   "display_name": "Python 3",
   "language": "python",
   "name": "python3"
  },
  "language_info": {
   "codemirror_mode": {
    "name": "ipython",
    "version": 3
   },
   "file_extension": ".py",
   "mimetype": "text/x-python",
   "name": "python",
   "nbconvert_exporter": "python",
   "pygments_lexer": "ipython3",
   "version": "3.8.10"
  }
 },
 "nbformat": 4,
 "nbformat_minor": 5
}
